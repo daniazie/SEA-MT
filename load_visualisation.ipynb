{
 "cells": [
  {
   "cell_type": "code",
   "execution_count": 1,
   "id": "87fd5cb0",
   "metadata": {},
   "outputs": [],
   "source": [
    "import emblaze"
   ]
  },
  {
   "cell_type": "code",
   "execution_count": 2,
   "id": "d85ff537",
   "metadata": {},
   "outputs": [],
   "source": [
    "w = emblaze.Viewer(file='visualisation_v1.json')"
   ]
  },
  {
   "cell_type": "code",
   "execution_count": 3,
   "id": "e275b72d",
   "metadata": {},
   "outputs": [
    {
     "data": {
      "application/vnd.jupyter.widget-view+json": {
       "model_id": "6521aa8d6c5b4c699621ebda4ab09b49",
       "version_major": 2,
       "version_minor": 1
      },
      "text/plain": [
       "Viewer(colorScheme='tableau', data={'data': [{'_format': 'compressed', '_idtype': 'u2', '_length': 4000, 'ids'…"
      ]
     },
     "execution_count": 3,
     "metadata": {},
     "output_type": "execute_result"
    }
   ],
   "source": [
    "w"
   ]
  },
  {
   "cell_type": "code",
   "execution_count": null,
   "id": "c24210bb",
   "metadata": {},
   "outputs": [],
   "source": []
  }
 ],
 "metadata": {
  "kernelspec": {
   "display_name": "seamt",
   "language": "python",
   "name": "python3"
  },
  "language_info": {
   "codemirror_mode": {
    "name": "ipython",
    "version": 3
   },
   "file_extension": ".py",
   "mimetype": "text/x-python",
   "name": "python",
   "nbconvert_exporter": "python",
   "pygments_lexer": "ipython3",
   "version": "3.13.7"
  }
 },
 "nbformat": 4,
 "nbformat_minor": 5
}
